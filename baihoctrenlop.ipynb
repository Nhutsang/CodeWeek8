{
  "nbformat": 4,
  "nbformat_minor": 0,
  "metadata": {
    "colab": {
      "provenance": [],
      "authorship_tag": "ABX9TyNUtsGMhscURfXwH64SkV+l",
      "include_colab_link": true
    },
    "kernelspec": {
      "name": "python3",
      "display_name": "Python 3"
    },
    "language_info": {
      "name": "python"
    }
  },
  "cells": [
    {
      "cell_type": "markdown",
      "metadata": {
        "id": "view-in-github",
        "colab_type": "text"
      },
      "source": [
        "<a href=\"https://colab.research.google.com/github/Nhutsang/CodeWeek8/blob/main/baihoctrenlop.ipynb\" target=\"_parent\"><img src=\"https://colab.research.google.com/assets/colab-badge.svg\" alt=\"Open In Colab\"/></a>"
      ]
    },
    {
      "cell_type": "code",
      "source": [
        "pip install  scikit-learn"
      ],
      "metadata": {
        "colab": {
          "base_uri": "https://localhost:8080/"
        },
        "id": "vaLOUM-5xRXT",
        "outputId": "d5bee394-a1bd-4693-9f12-77c9ef14c860"
      },
      "execution_count": 20,
      "outputs": [
        {
          "output_type": "stream",
          "name": "stdout",
          "text": [
            "Looking in indexes: https://pypi.org/simple, https://us-python.pkg.dev/colab-wheels/public/simple/\n",
            "Requirement already satisfied: scikit-learn in /usr/local/lib/python3.9/dist-packages (1.2.2)\n",
            "Requirement already satisfied: threadpoolctl>=2.0.0 in /usr/local/lib/python3.9/dist-packages (from scikit-learn) (3.1.0)\n",
            "Requirement already satisfied: joblib>=1.1.1 in /usr/local/lib/python3.9/dist-packages (from scikit-learn) (1.1.1)\n",
            "Requirement already satisfied: numpy>=1.17.3 in /usr/local/lib/python3.9/dist-packages (from scikit-learn) (1.22.4)\n",
            "Requirement already satisfied: scipy>=1.3.2 in /usr/local/lib/python3.9/dist-packages (from scikit-learn) (1.10.1)\n"
          ]
        }
      ]
    },
    {
      "cell_type": "code",
      "execution_count": 28,
      "metadata": {
        "colab": {
          "base_uri": "https://localhost:8080/"
        },
        "id": "2j-mFsZfslbX",
        "outputId": "4b5b7b0e-c649-4193-ee40-3d5adea5c409"
      },
      "outputs": [
        {
          "output_type": "stream",
          "name": "stdout",
          "text": [
            "[1 0 1 0]\n"
          ]
        }
      ],
      "source": [
        "\n",
        "\n",
        "from sklearn.linear_model import Perceptron \n",
        "\n",
        "x = [[0,0],[0,1],[1,0],[1,1]]\n",
        "t = [0,1,1,1]\n",
        "\n",
        "model = Perceptron()\n",
        "model.fit(x,t)\n",
        "model.score(x,t)\n",
        "\n",
        "x1 = [[0.5, 0.5],[-0.5, -0.5],[10,2.3],[-1,-2]]\n",
        "y1 = model.predict(x1)\n",
        "model.score(x1,y1)\n",
        "print(y1)"
      ]
    },
    {
      "cell_type": "code",
      "source": [
        "from sklearn.linear_model import Perceptron\n",
        "\n",
        "x=[[0,0],[0,1],[1,0],[1,1]]\n",
        "t=[0,1,1,1]\n",
        "\n",
        "model=Perceptron()\n",
        "model.fit(x,t)\n",
        "model.score(x,t)\n",
        "\n",
        "x1=[[0.5,0.5],[-0.5,-0.5],[10,2.3],[-1,-2]]\n",
        "\n",
        "y1=model.predict(x1)\n",
        "model.score(x1,y1)\n",
        "print(y1)"
      ],
      "metadata": {
        "colab": {
          "base_uri": "https://localhost:8080/"
        },
        "id": "3bJnJKjHwb3M",
        "outputId": "57458c7a-fb3c-4e9e-d7a9-06d056079c8e"
      },
      "execution_count": 24,
      "outputs": [
        {
          "output_type": "stream",
          "name": "stdout",
          "text": [
            "[1 0 1 0]\n"
          ]
        }
      ]
    },
    {
      "cell_type": "code",
      "source": [
        "from sklearn.linear_model import Perceptron\n",
        "x2 = [[-0.5,-0.5],[-0.5,0.5],[0.3,-0.5],[-0.1,1]]\n",
        "y2 =[1,1,0,0]\n",
        "model = Perceptron()\n",
        "model.fit(x2,y2)\n",
        "model.score(x2,y2)\n",
        "\n",
        "x3 = [[0.1,0.2],[]]"
      ],
      "metadata": {
        "colab": {
          "base_uri": "https://localhost:8080/"
        },
        "id": "NYWeOMSryzk9",
        "outputId": "06ad6807-ca13-4010-b240-e88628318888"
      },
      "execution_count": 29,
      "outputs": [
        {
          "output_type": "execute_result",
          "data": {
            "text/plain": [
              "1.0"
            ]
          },
          "metadata": {},
          "execution_count": 29
        }
      ]
    },
    {
      "cell_type": "markdown",
      "source": [],
      "metadata": {
        "id": "8MBpz22fu2j1"
      }
    }
  ]
}